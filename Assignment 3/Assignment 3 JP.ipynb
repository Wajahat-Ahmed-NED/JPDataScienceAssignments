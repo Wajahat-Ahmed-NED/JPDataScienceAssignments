{
 "cells": [
  {
   "cell_type": "code",
   "execution_count": 3,
   "id": "362f9f08",
   "metadata": {},
   "outputs": [
    {
     "name": "stdout",
     "output_type": "stream",
     "text": [
      "Python version I am using : \n",
      "3.8.8 (default, Apr 13 2021, 15:08:03) [MSC v.1916 64 bit (AMD64)]\n"
     ]
    }
   ],
   "source": [
    "# Q2 Write a Python program to get the Python version you are using\n",
    "import sys\n",
    "print(\"Python version I am using : \")\n",
    "print (sys.version)"
   ]
  },
  {
   "cell_type": "code",
   "execution_count": 5,
   "id": "f1f6f371",
   "metadata": {},
   "outputs": [
    {
     "name": "stdout",
     "output_type": "stream",
     "text": [
      "Current Date And Time is : \n",
      "24-10-2021 14:37:47\n"
     ]
    }
   ],
   "source": [
    "# Q3 Write a Python program to display the current date and time.\n",
    "import datetime\n",
    "today=datetime.datetime.now()\n",
    "print(\"Current Date And Time is : \")\n",
    "print(today.strftime(\"%d-%m-%Y %H:%M:%S\"))"
   ]
  },
  {
   "cell_type": "code",
   "execution_count": 13,
   "id": "91f0f1e8",
   "metadata": {},
   "outputs": [
    {
     "name": "stdout",
     "output_type": "stream",
     "text": [
      "Enter the radius of circle 2\n",
      "The area of circle is  12.56\n"
     ]
    }
   ],
   "source": [
    "#Q4. Write a Python program which accepts the radius of a circle from the user and compute the area.\n",
    "\n",
    "pi=3.14\n",
    "radius=int (input(\"Enter the radius of circle \"))\n",
    "area=pi*radius*radius\n",
    "print(\"The area of circle is \",area )"
   ]
  },
  {
   "cell_type": "code",
   "execution_count": 19,
   "id": "8ce888eb",
   "metadata": {},
   "outputs": [
    {
     "name": "stdout",
     "output_type": "stream",
     "text": [
      "Enter your first nameWajahat\n",
      "Enter your last nameAhmed\n",
      "Name in Reverse Order is\n",
      "tahajaW  demhA\n"
     ]
    }
   ],
   "source": [
    "#Q5. Write a Python program which accepts the user's first and last name and print them inreverse order with a space between them.\n",
    "fName=input(\"Enter your first name\")\n",
    "lName=input(\"Enter your last name\")\n",
    "print(\"Name in Reverse Order is\")\n",
    "print(fName[::-1],\"\",lName[::-1])\n"
   ]
  },
  {
   "cell_type": "code",
   "execution_count": 20,
   "id": "33bbeedf",
   "metadata": {},
   "outputs": [
    {
     "name": "stdout",
     "output_type": "stream",
     "text": [
      "Enter First Number12\n",
      "Enter Second Number23\n",
      "35\n"
     ]
    }
   ],
   "source": [
    "# Q6. Write a python program which takes two inputs from user and print them addition\n",
    "fNo=int(input(\"Enter First Number\"))\n",
    "sNo=int(input(\"Enter Second Number\"))\n",
    "print(fNo+sNo)"
   ]
  },
  {
   "cell_type": "code",
   "execution_count": 25,
   "id": "5c0d6859",
   "metadata": {},
   "outputs": [
    {
     "name": "stdout",
     "output_type": "stream",
     "text": [
      "Enter Eng Marks 80\n",
      "Enter Islamiat Marks 89\n",
      "Enter Maths Marks 99\n",
      "Enter Chemistry Marks 98\n",
      "Enter Physics Marks 97\n",
      "======== Marks Sheet =======\n",
      "Obtained Marks is :  463.0\n",
      "Total Marks is :  500\n",
      "Percentage is :  92.60000000000001\n",
      "Your grade is A++\n"
     ]
    }
   ],
   "source": [
    "# 7. Write a program which takes 5 inputs from user for different subject’s marks, total it and generate mark sheet using grades\n",
    "\n",
    "eng=float(input(\"Enter Eng Marks \"))\n",
    "isl=float(input(\"Enter Islamiat Marks \"))\n",
    "maths=float(input(\"Enter Maths Marks \"))\n",
    "chem=float(input(\"Enter Chemistry Marks \"))\n",
    "phy=float(input(\"Enter Physics Marks \"))\n",
    "totalMarks=500\n",
    "percentage=(eng+isl+maths+chem+phy)/totalMarks*100\n",
    "\n",
    "print(\"======== Marks Sheet =======\")\n",
    "\n",
    "print(\"Obtained Marks is : \",eng+isl+maths+chem+phy)\n",
    "print(\"Total Marks is : \",totalMarks)\n",
    "print(\"Percentage is : \",percentage)\n",
    "if percentage>0 and percentage<100:\n",
    "    if percentage >= 90:\n",
    "        print(\"Your grade is A++\")\n",
    "    elif percentage >= 80:\n",
    "        print(\"Your grade is A+\")\n",
    "    elif percentage >= 70:\n",
    "        print(\"Your grade is A\")\n",
    "    elif percentage >= 60:\n",
    "        print(\"Your grade is B\")\n",
    "    elif percentage >= 50:\n",
    "        print(\"Your grade is C\")\n",
    "    elif percentage >= 40:\n",
    "        print(\"Your grade is D\")\n",
    "    elif percentage >= 33:\n",
    "        print(\"Your grade is E\")\n",
    "    else:\n",
    "        print(\"You are Failed\")\n",
    "\n"
   ]
  },
  {
   "cell_type": "code",
   "execution_count": 23,
   "id": "a8f4a27c",
   "metadata": {},
   "outputs": [
    {
     "name": "stdout",
     "output_type": "stream",
     "text": [
      "Enter the number 11\n",
      "Number is Odd\n"
     ]
    }
   ],
   "source": [
    "# Q8 Write a program which take input from user and identify that the given number is even or odd?\n",
    "\n",
    "value=int(input(\"Enter the number \"))\n",
    "if value%2==0:\n",
    "    print(\"Number is Even \")\n",
    "else:\n",
    "    print(\"Number is Odd\")\n"
   ]
  },
  {
   "cell_type": "code",
   "execution_count": 29,
   "id": "9ae6ff80",
   "metadata": {},
   "outputs": [
    {
     "name": "stdout",
     "output_type": "stream",
     "text": [
      "The length of Array is found to be :  6\n"
     ]
    }
   ],
   "source": [
    "# Q9 Write a program which print the length of the list?\n",
    "\n",
    "arr=[1,2,3,4,6,7]\n",
    "print(\"The length of Array is found to be : \",len(arr))"
   ]
  },
  {
   "cell_type": "code",
   "execution_count": 31,
   "id": "0c11fb25",
   "metadata": {},
   "outputs": [
    {
     "name": "stdout",
     "output_type": "stream",
     "text": [
      "The sum of numbers in list is :  23\n"
     ]
    }
   ],
   "source": [
    "# Q10.Write a Python program to sum all the numeric items in a list?\n",
    "\n",
    "arr=[1,2,3,4,6,7]\n",
    "sum=0\n",
    "for i in range(len(arr)):\n",
    "    sum+=arr[i]\n",
    "\n",
    "print(\"The sum of numbers in list is : \",sum)"
   ]
  },
  {
   "cell_type": "code",
   "execution_count": 35,
   "id": "cc294c3d",
   "metadata": {},
   "outputs": [
    {
     "name": "stdout",
     "output_type": "stream",
     "text": [
      "The Largest value in list is :  24\n"
     ]
    }
   ],
   "source": [
    "# Q11.Write a Python program to get the largest number from a numeric list.\n",
    "\n",
    "arr=[1,2,3,24,6,7]\n",
    "larg=arr[0]\n",
    "for i in range(len(arr)):\n",
    "    if(larg<arr[i]):\n",
    "        larg=arr[i]\n",
    "\n",
    "print(\"The Largest value in list is : \",larg)"
   ]
  },
  {
   "cell_type": "code",
   "execution_count": 47,
   "id": "769b27e1",
   "metadata": {},
   "outputs": [
    {
     "name": "stdout",
     "output_type": "stream",
     "text": [
      "The elements less than 5 are :  [1, 1, 2, 3]\n"
     ]
    }
   ],
   "source": [
    "# Q12. Take a list, say for example this one: a = [1, 1, 2, 3, 5, 8, 13, 21, 34, 55, 89] Write a program that prints out all the elements of the list that are less than 5.\n",
    "\n",
    "a = [1, 1, 2, 3, 5, 8, 13, 21, 34, 55, 89]\n",
    "e5=[]\n",
    "for i in range(len(a)):\n",
    "    if(a[i]<5):\n",
    "        e5.append(a[i])\n",
    "print(\"The elements less than 5 are : \",e5)\n"
   ]
  },
  {
   "cell_type": "code",
   "execution_count": 1,
   "id": "fd753674",
   "metadata": {},
   "outputs": [
    {
     "name": "stdout",
     "output_type": "stream",
     "text": [
      "Twinkle, twinkle, little star,\n",
      "\t How I wonder what you are!\n",
      "\t\t Up above the world so high,\n",
      "\t \t Like a diamond in the sky.\n",
      " Twinkle, twinkle, little star,\n",
      "\t How I wonder what you are\n"
     ]
    }
   ],
   "source": [
    "# Q1 Write a Python program to print the following string in a specific format \n",
    "# (see the output).\n",
    "# Twinkle, twinkle, little star,\n",
    "# How I wonder what you are!\n",
    "# Up above the world so high,\n",
    "# Like a diamond in the sky.\n",
    "\n",
    "# Twinkle, twinkle, little star,\n",
    "# How I wonder what you are\n",
    "\n",
    "print(\"Twinkle, twinkle, little star,\")\n",
    "print(\"\\t How I wonder what you are!\")\n",
    "print(\"\\t\\t Up above the world so high,\")\n",
    "print(\"\\t \\t Like a diamond in the sky.\")\n",
    "print(\" Twinkle, twinkle, little star,\")\n",
    "print(\"\\t How I wonder what you are\")"
   ]
  },
  {
   "cell_type": "code",
   "execution_count": null,
   "id": "6f9b4eb7",
   "metadata": {},
   "outputs": [],
   "source": []
  }
 ],
 "metadata": {
  "kernelspec": {
   "display_name": "Python 3",
   "language": "python",
   "name": "python3"
  },
  "language_info": {
   "codemirror_mode": {
    "name": "ipython",
    "version": 3
   },
   "file_extension": ".py",
   "mimetype": "text/x-python",
   "name": "python",
   "nbconvert_exporter": "python",
   "pygments_lexer": "ipython3",
   "version": "3.8.8"
  }
 },
 "nbformat": 4,
 "nbformat_minor": 5
}
